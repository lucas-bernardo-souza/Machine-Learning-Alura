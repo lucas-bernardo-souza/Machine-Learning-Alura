{
 "cells": [
  {
   "cell_type": "markdown",
   "metadata": {},
   "source": [
    "## Aprendizado de máquina supervisionado"
   ]
  },
  {
   "cell_type": "markdown",
   "metadata": {},
   "source": [
    "Eu sei de antemão a resposta para o meu problema. Por exemplo quero que o meu algoritmo aprenda diferenciar cachorros de porcos, no meu conjunto de dados para treinamento eu tenho já classificado o que é porco e o que é cachorro e eu vou mostrar para o meu algoritmo o que é um porco e o que é um cachorro."
   ]
  },
  {
   "cell_type": "markdown",
   "metadata": {},
   "source": [
    "Uma coisa importante é que o conjunto que utilizo para treinamento não pode ser o mesmo utilizado para teste e validadção. Tenho que separar uma quantidade de dados para treinar o meu modelo, outra para testar e validar."
   ]
  },
  {
   "cell_type": "code",
   "execution_count": 1,
   "metadata": {},
   "outputs": [],
   "source": [
    "# features  (1 sim, 0 não)\n",
    "# longo?\n",
    "# perna curta?\n",
    "# faz auau?\n",
    "\n",
    "porco1 = [0, 1, 0]\n",
    "porco2 = [0, 1, 1]\n",
    "porco3 = [1, 1, 0]\n",
    "\n",
    "cachorro1 = [0, 1, 1]\n",
    "cachorro2 = [1, 0, 1]\n",
    "cachorro3 = [1, 1, 1]\n",
    "\n",
    "# 1 => porco, 0 => cachorro\n",
    "treino_x = [porco1, porco2, porco3, cachorro1, cachorro2, cachorro3]\n",
    "treino_y = [1,1,1,0,0,0]"
   ]
  },
  {
   "cell_type": "markdown",
   "metadata": {},
   "source": [
    "O nosso modelo funciona como uma função matemática f, onde passamos os nossos dados e nos é retornado a classe desses dados, dessa forma: <b>f(x) = y</b>"
   ]
  },
  {
   "cell_type": "markdown",
   "metadata": {},
   "source": [
    "treino_x = dados de treino; treino_y = classe dos dados de treino"
   ]
  },
  {
   "cell_type": "code",
   "execution_count": 2,
   "metadata": {},
   "outputs": [
    {
     "data": {
      "text/plain": [
       "LinearSVC()"
      ]
     },
     "execution_count": 2,
     "metadata": {},
     "output_type": "execute_result"
    }
   ],
   "source": [
    "# Estimador base\n",
    "from sklearn.svm import LinearSVC\n",
    "\n",
    "# Estancio o meu modelo\n",
    "model = LinearSVC()\n",
    "# Passo os dados para que ele aprenda\n",
    "model.fit(treino_x, treino_y)"
   ]
  },
  {
   "cell_type": "markdown",
   "metadata": {},
   "source": [
    "O método fit faz o treinamento to modelo, recebe como parâmetro o conjunto de dados de treino e as classes a qual os dados pertencem."
   ]
  },
  {
   "cell_type": "code",
   "execution_count": 3,
   "metadata": {},
   "outputs": [
    {
     "data": {
      "text/plain": [
       "array([0])"
      ]
     },
     "execution_count": 3,
     "metadata": {},
     "output_type": "execute_result"
    }
   ],
   "source": [
    "# Vamos fazer o nosso metodo predizer qual animal é esse\n",
    "# O predict espera como parâmetro uma lista de itens\n",
    "animal_misterioso = [1,1,1]\n",
    "model.predict([animal_misterioso])"
   ]
  },
  {
   "cell_type": "markdown",
   "metadata": {},
   "source": [
    "Com o método predict é possivel passar como parâmetro uma lista de dados ou um conjunto de dados e predizer ele nos retornara uma predição de qual classe aquele dado pertence. No exemplo acima passamos uma lista com um único exemplo e nos foi retornado que o animal_misterioso pertence a classe zero ou seja é um cachorro."
   ]
  },
  {
   "cell_type": "code",
   "execution_count": 4,
   "metadata": {},
   "outputs": [],
   "source": [
    "misterio1 = [1,1,1]\n",
    "misterio2 = [1,1,0]\n",
    "misterio3 = [0,1,1] #porco\n",
    "\n",
    "teste_x = [misterio1, misterio2, misterio3]\n",
    "teste_y = [0,1,1] # O resultado correto das predições\n",
    "previsoes = model.predict(teste_x)"
   ]
  },
  {
   "cell_type": "markdown",
   "metadata": {},
   "source": [
    "Algoritmo errou a ultima predição."
   ]
  },
  {
   "cell_type": "markdown",
   "metadata": {},
   "source": [
    "A taxa de acerto é uma das medidas mais básicas de um modelo, e serve para analisarmos quantas classificações o nosso algorítimo foi capaz de acertar dentro de um determinado conjunto de dados"
   ]
  },
  {
   "cell_type": "code",
   "execution_count": 5,
   "metadata": {},
   "outputs": [],
   "source": [
    "previsoes = model.predict(teste_x)"
   ]
  },
  {
   "cell_type": "code",
   "execution_count": 6,
   "metadata": {},
   "outputs": [
    {
     "data": {
      "text/plain": [
       "array([ True,  True, False])"
      ]
     },
     "execution_count": 6,
     "metadata": {},
     "output_type": "execute_result"
    }
   ],
   "source": [
    "previsoes == teste_y # comparando a predição com o resultado correto"
   ]
  },
  {
   "cell_type": "markdown",
   "metadata": {},
   "source": [
    "Essa comparação retorna um array do numpay, com a comparação de cada elemento"
   ]
  },
  {
   "cell_type": "code",
   "execution_count": 9,
   "metadata": {},
   "outputs": [
    {
     "name": "stdout",
     "output_type": "stream",
     "text": [
      "Taxa de acerto: 66.67\n"
     ]
    }
   ],
   "source": [
    "corretos = (previsoes == teste_y).sum()\n",
    "total = len(teste_x)\n",
    "taxa_de_acerto = corretos/total\n",
    "print(\"Taxa de acerto: %.2f\" % (taxa_de_acerto * 100))"
   ]
  },
  {
   "cell_type": "markdown",
   "metadata": {},
   "source": [
    "accuracy é a taxa de acertos, o número de acertos dividido pelo total. (accuracy_score)"
   ]
  },
  {
   "cell_type": "code",
   "execution_count": 10,
   "metadata": {},
   "outputs": [
    {
     "name": "stdout",
     "output_type": "stream",
     "text": [
      "Taxa de acerto: 66.67\n"
     ]
    }
   ],
   "source": [
    "from sklearn.metrics import accuracy_score\n",
    "\n",
    "taxa_de_acerto = accuracy_score(teste_y, previsoes)\n",
    "print(\"Taxa de acerto: %.2f\" % (taxa_de_acerto * 100))"
   ]
  },
  {
   "cell_type": "markdown",
   "metadata": {},
   "source": [
    "Nessa aula aprendemos:\n",
    "<ul>\n",
    "    <li>Treinar algoritmos;</li>\n",
    "    <li>Definir características (features) do que desejamos classificar;</li>\n",
    "    <li>Classificar em categorias;</li>\n",
    "    <li>Utilizar o módulo linearSVC e accuracy_score;</li>\n",
    "    <li>Utilizar o método fit;</li>\n",
    "    <li>Prever dados com a função predict;</li>\n",
    "    <li>Calcular a taxa de acerto do modelo;</li>\n",
    "    <li>Comparar testes e previsões;</li>\n",
    "    <li>Utilizar a função soma;</li>\n",
    "    <li>Padronizar variáveis;</li>\n",
    "</ul>"
   ]
  }
 ],
 "metadata": {
  "interpreter": {
   "hash": "533c200b62f6c51c0ee330ff546b9b4f8ef7ef0f6f7488f28d7da568db8e17de"
  },
  "kernelspec": {
   "display_name": "Python 3.10.0 64-bit",
   "language": "python",
   "name": "python3"
  },
  "language_info": {
   "codemirror_mode": {
    "name": "ipython",
    "version": 3
   },
   "file_extension": ".py",
   "mimetype": "text/x-python",
   "name": "python",
   "nbconvert_exporter": "python",
   "pygments_lexer": "ipython3",
   "version": "3.8.8"
  },
  "orig_nbformat": 4
 },
 "nbformat": 4,
 "nbformat_minor": 2
}
